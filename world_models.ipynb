{
 "cells": [
  {
   "cell_type": "code",
   "execution_count": 1,
   "metadata": {},
   "outputs": [],
   "source": [
    "import os\n",
    "import time\n",
    "import csv\n",
    "import math\n",
    "import random\n",
    "\n",
    "import torch\n",
    "import torch.nn as nn\n",
    "import torch.nn.functional as F\n",
    "import numpy as np\n",
    "from PIL import Image\n",
    "from torch.distributions import Normal\n",
    "from torch.utils.data import DataLoader\n",
    "from torchvision.utils import save_image\n",
    "from torch.utils.data import Dataset, DataLoader\n",
    "from torch.autograd import Variable\n",
    "from torchvision.transforms import ToTensor, ToPILImage\n",
    "from matplotlib import pyplot as plt"
   ]
  },
  {
   "cell_type": "code",
   "execution_count": 2,
   "metadata": {},
   "outputs": [],
   "source": [
    "device = torch.device(\"cuda:0\" if torch.cuda.is_available() else \"cpu\")"
   ]
  },
  {
   "cell_type": "code",
   "execution_count": 3,
   "metadata": {},
   "outputs": [],
   "source": [
    "class VAE(nn.Module):\n",
    "    def __init__(self, input_shape, z_dim):\n",
    "        super(VAE, self).__init__()\n",
    "\n",
    "        self.image_size = 3 * 64 * 64\n",
    "        self.conv1 = nn.Conv2d(3, 32, 4, stride=2)\n",
    "        self.conv2 = nn.Conv2d(32, 64, 4, stride=2)\n",
    "        self.conv3 = nn.Conv2d(64, 128, 4, stride=2)\n",
    "        self.conv4 = nn.Conv2d(128, 256, 4, stride=2)\n",
    "\n",
    "        self.fc1 = nn.Linear(256 * 2 * 2, z_dim)\n",
    "        self.fc2 = nn.Linear(256 * 2 * 2, z_dim)\n",
    "        self.fc3 = nn.Linear(z_dim, 256 * 2 * 2)\n",
    "\n",
    "        self.deconv1 = nn.ConvTranspose2d(256 * 2 * 2, 128, 5, stride=2)\n",
    "        self.deconv2 = nn.ConvTranspose2d(128, 64, 5, stride=2)\n",
    "        self.deconv3 = nn.ConvTranspose2d(64, 32, 6, stride=2)\n",
    "        self.deconv4 = nn.ConvTranspose2d(32, 3, 6, stride=2)\n",
    "\n",
    "\n",
    "    def encode(self, x):\n",
    "        h = F.relu(self.conv1(x))\n",
    "        h = F.relu(self.conv2(h))\n",
    "        h = F.relu(self.conv3(h))\n",
    "        h = F.relu(self.conv4(h))\n",
    "        h = h.view(-1, 256 * 2 * 2)\n",
    "        return self.fc1(h), self.fc2(h)\n",
    "\n",
    "\n",
    "    def reparameterize(self, mu, logvar):\n",
    "        \"\"\"Generate latent vector from mean and stddev\"\"\"\n",
    "        std = torch.exp(0.5 * logvar)\n",
    "        eps = torch.randn_like(std)\n",
    "        return eps * std + mu\n",
    "\n",
    "\n",
    "    def decode(self, z):\n",
    "        h = self.fc3(z).view(-1, 256 * 2 * 2, 1, 1)\n",
    "        h = F.relu(self.deconv1(h))\n",
    "        h = F.relu(self.deconv2(h))\n",
    "        h = F.relu(self.deconv3(h))\n",
    "        h = F.sigmoid(self.deconv4(h))\n",
    "        return h\n",
    "\n",
    "\n",
    "    def forward(self, x, encode=False, mean=False):\n",
    "        mu, logvar = self.encode(x)\n",
    "        z = self.reparameterize(mu, logvar)\n",
    "        if encode:\n",
    "            if mean:\n",
    "                return mu\n",
    "            return z\n",
    "        return self.decode(z), mu, logvar"
   ]
  },
  {
   "cell_type": "code",
   "execution_count": 4,
   "metadata": {},
   "outputs": [],
   "source": [
    "class VAEDataset(Dataset):\n",
    "\n",
    "    def __init__(self, size=20):\n",
    "        \"\"\" Instanciate a dataset extending PyTorch \"\"\"\n",
    "        self.frames = []\n",
    "        for i in os.listdir('/floyd/input/car_racing_data/'):\n",
    "            obs = np.load(os.path.join('/floyd/input/car_racing_data', i))['obs']\n",
    "            for ob in obs:\n",
    "                self.frames.append(ToTensor()(Image.fromarray(ob).resize((64,64))))\n",
    "#         for i in os.listdir('/floyd/input/driving_data/'):\n",
    "#             obs = ToTensor()(np.array(Image.open(os.path.join('/floyd/input/driving_data/', i)).resize((64,64))))\n",
    "#             self.frames.append(obs)\n",
    "\n",
    "    def __len__(self):\n",
    "        return len(self.frames)\n",
    "\n",
    "\n",
    "    def __getitem__(self, idx):\n",
    "        return self.frames[idx]"
   ]
  },
  {
   "cell_type": "code",
   "execution_count": 5,
   "metadata": {},
   "outputs": [],
   "source": [
    "def loss_fn(recon_x, x, mu, logvar):\n",
    "    batch_size = x.size()[0]\n",
    "    loss = F.binary_cross_entropy(recon_x, x, reduction='sum')\n",
    "    kld = -0.5 * torch.sum(1 + logvar - mu.pow(2) - logvar.exp())\n",
    "#     loss /= batch_size\n",
    "#     kld /= batch_size\n",
    "    return loss + kld\n",
    "\n",
    "record_loss = []\n",
    "def train_vae():\n",
    "    \"\"\"Train a VAE to create a latent representation environment\"\"\"\n",
    "    epochs = 5\n",
    "    vae = VAE((320, 160, 3), 50).to(device)\n",
    "    optimizer = torch.optim.Adam(vae.parameters(), lr=1e-3, weight_decay=1e-4)\n",
    "    \n",
    "    dataset = VAEDataset()\n",
    "    training_set = DataLoader(dataset, batch_size=128, num_workers=4, shuffle=True)\n",
    "    for e in range(epochs):\n",
    "        print(\"Epoch: {}/{}\".format(e+1, epochs))\n",
    "        for i, frames in enumerate(training_set):\n",
    "            optimizer.zero_grad()\n",
    "            #print frames\n",
    "            frames = frames.to(device)\n",
    "            recon_x, mu, logvar = vae(frames)\n",
    "            loss = loss_fn(recon_x, frames, mu, logvar)\n",
    "\n",
    "            loss.backward()\n",
    "            optimizer.step()\n",
    "            \n",
    "            record_loss.append(loss)\n",
    "\n",
    "            if i % 20 == 0:\n",
    "                print(\"Loss: {}\".format(float(loss.data)))\n",
    "        \n",
    "    torch.save(vae.state_dict(), 'model.pt')"
   ]
  },
  {
   "cell_type": "code",
   "execution_count": 6,
   "metadata": {},
   "outputs": [
    {
     "ename": "KeyboardInterrupt",
     "evalue": "",
     "output_type": "error",
     "traceback": [
      "\u001b[0;31m---------------------------------------------------------------------------\u001b[0m",
      "\u001b[0;31mKeyboardInterrupt\u001b[0m                         Traceback (most recent call last)",
      "\u001b[0;32m<ipython-input-6-7a907f6ad832>\u001b[0m in \u001b[0;36m<module>\u001b[0;34m()\u001b[0m\n\u001b[0;32m----> 1\u001b[0;31m \u001b[0mtrain_vae\u001b[0m\u001b[0;34m(\u001b[0m\u001b[0;34m)\u001b[0m\u001b[0;34m\u001b[0m\u001b[0m\n\u001b[0m",
      "\u001b[0;32m<ipython-input-5-a8fdee759dca>\u001b[0m in \u001b[0;36mtrain_vae\u001b[0;34m()\u001b[0m\n\u001b[1;32m     14\u001b[0m     \u001b[0moptimizer\u001b[0m \u001b[0;34m=\u001b[0m \u001b[0mtorch\u001b[0m\u001b[0;34m.\u001b[0m\u001b[0moptim\u001b[0m\u001b[0;34m.\u001b[0m\u001b[0mAdam\u001b[0m\u001b[0;34m(\u001b[0m\u001b[0mvae\u001b[0m\u001b[0;34m.\u001b[0m\u001b[0mparameters\u001b[0m\u001b[0;34m(\u001b[0m\u001b[0;34m)\u001b[0m\u001b[0;34m,\u001b[0m \u001b[0mlr\u001b[0m\u001b[0;34m=\u001b[0m\u001b[0;36m1e-3\u001b[0m\u001b[0;34m,\u001b[0m \u001b[0mweight_decay\u001b[0m\u001b[0;34m=\u001b[0m\u001b[0;36m1e-4\u001b[0m\u001b[0;34m)\u001b[0m\u001b[0;34m\u001b[0m\u001b[0m\n\u001b[1;32m     15\u001b[0m \u001b[0;34m\u001b[0m\u001b[0m\n\u001b[0;32m---> 16\u001b[0;31m     \u001b[0mdataset\u001b[0m \u001b[0;34m=\u001b[0m \u001b[0mVAEDataset\u001b[0m\u001b[0;34m(\u001b[0m\u001b[0;34m)\u001b[0m\u001b[0;34m\u001b[0m\u001b[0m\n\u001b[0m\u001b[1;32m     17\u001b[0m     \u001b[0mtraining_set\u001b[0m \u001b[0;34m=\u001b[0m \u001b[0mDataLoader\u001b[0m\u001b[0;34m(\u001b[0m\u001b[0mdataset\u001b[0m\u001b[0;34m,\u001b[0m \u001b[0mbatch_size\u001b[0m\u001b[0;34m=\u001b[0m\u001b[0;36m128\u001b[0m\u001b[0;34m,\u001b[0m \u001b[0mnum_workers\u001b[0m\u001b[0;34m=\u001b[0m\u001b[0;36m4\u001b[0m\u001b[0;34m,\u001b[0m \u001b[0mshuffle\u001b[0m\u001b[0;34m=\u001b[0m\u001b[0;32mTrue\u001b[0m\u001b[0;34m)\u001b[0m\u001b[0;34m\u001b[0m\u001b[0m\n\u001b[1;32m     18\u001b[0m     \u001b[0;32mfor\u001b[0m \u001b[0me\u001b[0m \u001b[0;32min\u001b[0m \u001b[0mrange\u001b[0m\u001b[0;34m(\u001b[0m\u001b[0mepochs\u001b[0m\u001b[0;34m)\u001b[0m\u001b[0;34m:\u001b[0m\u001b[0;34m\u001b[0m\u001b[0m\n",
      "\u001b[0;32m<ipython-input-4-491224f646c8>\u001b[0m in \u001b[0;36m__init__\u001b[0;34m(self, size)\u001b[0m\n\u001b[1;32m      7\u001b[0m             \u001b[0mobs\u001b[0m \u001b[0;34m=\u001b[0m \u001b[0mnp\u001b[0m\u001b[0;34m.\u001b[0m\u001b[0mload\u001b[0m\u001b[0;34m(\u001b[0m\u001b[0mos\u001b[0m\u001b[0;34m.\u001b[0m\u001b[0mpath\u001b[0m\u001b[0;34m.\u001b[0m\u001b[0mjoin\u001b[0m\u001b[0;34m(\u001b[0m\u001b[0;34m'/floyd/input/car_racing_data'\u001b[0m\u001b[0;34m,\u001b[0m \u001b[0mi\u001b[0m\u001b[0;34m)\u001b[0m\u001b[0;34m)\u001b[0m\u001b[0;34m[\u001b[0m\u001b[0;34m'obs'\u001b[0m\u001b[0;34m]\u001b[0m\u001b[0;34m\u001b[0m\u001b[0m\n\u001b[1;32m      8\u001b[0m             \u001b[0;32mfor\u001b[0m \u001b[0mob\u001b[0m \u001b[0;32min\u001b[0m \u001b[0mobs\u001b[0m\u001b[0;34m:\u001b[0m\u001b[0;34m\u001b[0m\u001b[0m\n\u001b[0;32m----> 9\u001b[0;31m                 \u001b[0mself\u001b[0m\u001b[0;34m.\u001b[0m\u001b[0mframes\u001b[0m\u001b[0;34m.\u001b[0m\u001b[0mappend\u001b[0m\u001b[0;34m(\u001b[0m\u001b[0mToTensor\u001b[0m\u001b[0;34m(\u001b[0m\u001b[0;34m)\u001b[0m\u001b[0;34m(\u001b[0m\u001b[0mImage\u001b[0m\u001b[0;34m.\u001b[0m\u001b[0mfromarray\u001b[0m\u001b[0;34m(\u001b[0m\u001b[0mob\u001b[0m\u001b[0;34m)\u001b[0m\u001b[0;34m.\u001b[0m\u001b[0mresize\u001b[0m\u001b[0;34m(\u001b[0m\u001b[0;34m(\u001b[0m\u001b[0;36m64\u001b[0m\u001b[0;34m,\u001b[0m\u001b[0;36m64\u001b[0m\u001b[0;34m)\u001b[0m\u001b[0;34m)\u001b[0m\u001b[0;34m)\u001b[0m\u001b[0;34m)\u001b[0m\u001b[0;34m\u001b[0m\u001b[0m\n\u001b[0m\u001b[1;32m     10\u001b[0m \u001b[0;31m#         for i in os.listdir('/floyd/input/driving_data/'):\u001b[0m\u001b[0;34m\u001b[0m\u001b[0;34m\u001b[0m\u001b[0m\n\u001b[1;32m     11\u001b[0m \u001b[0;31m#             obs = ToTensor()(np.array(Image.open(os.path.join('/floyd/input/driving_data/', i)).resize((64,64))))\u001b[0m\u001b[0;34m\u001b[0m\u001b[0;34m\u001b[0m\u001b[0m\n",
      "\u001b[0;32m/usr/local/lib/python3.6/site-packages/PIL/Image.py\u001b[0m in \u001b[0;36mresize\u001b[0;34m(self, size, resample, box)\u001b[0m\n\u001b[1;32m   1763\u001b[0m         \u001b[0mself\u001b[0m\u001b[0;34m.\u001b[0m\u001b[0mload\u001b[0m\u001b[0;34m(\u001b[0m\u001b[0;34m)\u001b[0m\u001b[0;34m\u001b[0m\u001b[0m\n\u001b[1;32m   1764\u001b[0m \u001b[0;34m\u001b[0m\u001b[0m\n\u001b[0;32m-> 1765\u001b[0;31m         \u001b[0;32mreturn\u001b[0m \u001b[0mself\u001b[0m\u001b[0;34m.\u001b[0m\u001b[0m_new\u001b[0m\u001b[0;34m(\u001b[0m\u001b[0mself\u001b[0m\u001b[0;34m.\u001b[0m\u001b[0mim\u001b[0m\u001b[0;34m.\u001b[0m\u001b[0mresize\u001b[0m\u001b[0;34m(\u001b[0m\u001b[0msize\u001b[0m\u001b[0;34m,\u001b[0m \u001b[0mresample\u001b[0m\u001b[0;34m,\u001b[0m \u001b[0mbox\u001b[0m\u001b[0;34m)\u001b[0m\u001b[0;34m)\u001b[0m\u001b[0;34m\u001b[0m\u001b[0m\n\u001b[0m\u001b[1;32m   1766\u001b[0m \u001b[0;34m\u001b[0m\u001b[0m\n\u001b[1;32m   1767\u001b[0m     def rotate(self, angle, resample=NEAREST, expand=0, center=None,\n",
      "\u001b[0;32m/usr/local/lib/python3.6/site-packages/PIL/Image.py\u001b[0m in \u001b[0;36m_new\u001b[0;34m(self, im)\u001b[0m\n\u001b[1;32m    550\u001b[0m \u001b[0;34m\u001b[0m\u001b[0m\n\u001b[1;32m    551\u001b[0m     \u001b[0;32mdef\u001b[0m \u001b[0m_new\u001b[0m\u001b[0;34m(\u001b[0m\u001b[0mself\u001b[0m\u001b[0;34m,\u001b[0m \u001b[0mim\u001b[0m\u001b[0;34m)\u001b[0m\u001b[0;34m:\u001b[0m\u001b[0;34m\u001b[0m\u001b[0m\n\u001b[0;32m--> 552\u001b[0;31m         \u001b[0mnew\u001b[0m \u001b[0;34m=\u001b[0m \u001b[0mImage\u001b[0m\u001b[0;34m(\u001b[0m\u001b[0;34m)\u001b[0m\u001b[0;34m\u001b[0m\u001b[0m\n\u001b[0m\u001b[1;32m    553\u001b[0m         \u001b[0mnew\u001b[0m\u001b[0;34m.\u001b[0m\u001b[0mim\u001b[0m \u001b[0;34m=\u001b[0m \u001b[0mim\u001b[0m\u001b[0;34m\u001b[0m\u001b[0m\n\u001b[1;32m    554\u001b[0m         \u001b[0mnew\u001b[0m\u001b[0;34m.\u001b[0m\u001b[0mmode\u001b[0m \u001b[0;34m=\u001b[0m \u001b[0mim\u001b[0m\u001b[0;34m.\u001b[0m\u001b[0mmode\u001b[0m\u001b[0;34m\u001b[0m\u001b[0m\n",
      "\u001b[0;32m/usr/local/lib/python3.6/site-packages/PIL/Image.py\u001b[0m in \u001b[0;36m__init__\u001b[0;34m(self)\u001b[0m\n\u001b[1;32m    534\u001b[0m         \u001b[0mself\u001b[0m\u001b[0;34m.\u001b[0m\u001b[0mim\u001b[0m \u001b[0;34m=\u001b[0m \u001b[0;32mNone\u001b[0m\u001b[0;34m\u001b[0m\u001b[0m\n\u001b[1;32m    535\u001b[0m         \u001b[0mself\u001b[0m\u001b[0;34m.\u001b[0m\u001b[0mmode\u001b[0m \u001b[0;34m=\u001b[0m \u001b[0;34m\"\"\u001b[0m\u001b[0;34m\u001b[0m\u001b[0m\n\u001b[0;32m--> 536\u001b[0;31m         \u001b[0mself\u001b[0m\u001b[0;34m.\u001b[0m\u001b[0msize\u001b[0m \u001b[0;34m=\u001b[0m \u001b[0;34m(\u001b[0m\u001b[0;36m0\u001b[0m\u001b[0;34m,\u001b[0m \u001b[0;36m0\u001b[0m\u001b[0;34m)\u001b[0m\u001b[0;34m\u001b[0m\u001b[0m\n\u001b[0m\u001b[1;32m    537\u001b[0m         \u001b[0mself\u001b[0m\u001b[0;34m.\u001b[0m\u001b[0mpalette\u001b[0m \u001b[0;34m=\u001b[0m \u001b[0;32mNone\u001b[0m\u001b[0;34m\u001b[0m\u001b[0m\n\u001b[1;32m    538\u001b[0m         \u001b[0mself\u001b[0m\u001b[0;34m.\u001b[0m\u001b[0minfo\u001b[0m \u001b[0;34m=\u001b[0m \u001b[0;34m{\u001b[0m\u001b[0;34m}\u001b[0m\u001b[0;34m\u001b[0m\u001b[0m\n",
      "\u001b[0;31mKeyboardInterrupt\u001b[0m: "
     ]
    }
   ],
   "source": [
    "train_vae()"
   ]
  },
  {
   "cell_type": "code",
   "execution_count": 6,
   "metadata": {},
   "outputs": [],
   "source": [
    "vae = VAE((320, 160, 3), 50)\n",
    "vae.load_state_dict(torch.load('model.pt', map_location='cpu'))"
   ]
  },
  {
   "cell_type": "code",
   "execution_count": 7,
   "metadata": {},
   "outputs": [
    {
     "name": "stderr",
     "output_type": "stream",
     "text": [
      "/usr/local/lib/python3.6/site-packages/torch/nn/functional.py:1006: UserWarning: nn.functional.sigmoid is deprecated. Use torch.sigmoid instead.\n",
      "  warnings.warn(\"nn.functional.sigmoid is deprecated. Use torch.sigmoid instead.\")\n"
     ]
    },
    {
     "data": {
      "image/png": "[encoded data removed]",
      "text/plain": [
       "<Figure size 432x288 with 1 Axes>"
      ]
     },
     "metadata": {},
     "output_type": "display_data"
    }
   ],
   "source": [
    "# Test VAE\n",
    "img = np.load('/floyd/input/car_racing_data/trial_1995_0.npz')['obs'][120]\n",
    "img = Image.fromarray(img).resize((64,64))\n",
    "plt.imshow(img)\n",
    "im = vae(ToTensor()(img).unsqueeze_(0),encode=False)[0]"
   ]
  },
  {
   "cell_type": "code",
   "execution_count": null,
   "metadata": {},
   "outputs": [],
   "source": [
    "img = im.permute((0,2,3,1))\n",
    "im_to_show = img.detach().numpy()[0]\n",
    "plt.imshow(im_to_show)"
   ]
  },
  {
   "cell_type": "markdown",
   "metadata": {},
   "source": [
    "## VRNN"
   ]
  },
  {
   "cell_type": "code",
   "execution_count": 3,
   "metadata": {},
   "outputs": [],
   "source": [
    "HIDDEN_UNTIS = 256\n",
    "z_dim = 50\n",
    "\n",
    "class VRNN(nn.Module):\n",
    "    def __init__(self):\n",
    "        super(VRNN, self).__init__()\n",
    "        self.conv1 = nn.Conv2d(3, 32, 4, stride=2)\n",
    "        self.conv2 = nn.Conv2d(32, 64, 4, stride=2)\n",
    "        self.conv3 = nn.Conv2d(64, 128, 4, stride=2)\n",
    "        self.conv4 = nn.Conv2d(128, 256, 4, stride=2)\n",
    "        self.fc1 = nn.Linear(256 * 2 * 2, z_dim)\n",
    "\n",
    "        self.encoder = nn.Linear(50+256,50*2) # output hyperparameters\n",
    "        self.phi_z = nn.Sequential(nn.Linear(50,50), nn.ReLU())\n",
    "        \n",
    "        self.fc3 = nn.Linear(z_dim+256, 256 * 2 * 2)\n",
    "        self.deconv1 = nn.ConvTranspose2d(256 * 2 * 2, 128, 5, stride=2)\n",
    "        self.deconv2 = nn.ConvTranspose2d(128, 64, 5, stride=2)\n",
    "        self.deconv3 = nn.ConvTranspose2d(64, 32, 6, stride=2)\n",
    "        self.deconv4 = nn.ConvTranspose2d(32, 3, 6, stride=2)\n",
    "\n",
    "        self.prior = nn.Linear(256,50*2) # output hyperparameters\n",
    "        self.rnn = nn.GRUCell(50*2,256)\n",
    "        \n",
    "    def forward(self, x, hidden):\n",
    "        # Feature extraction\n",
    "        #x = x.unsqueeze_(0)\n",
    "        x = F.relu(self.conv1(x))\n",
    "        x = F.relu(self.conv2(x))\n",
    "        x = F.relu(self.conv3(x))\n",
    "        x = F.relu(self.conv4(x))\n",
    "        x = x.view(-1, 256 * 2 * 2)\n",
    "        x = self.fc1(x)\n",
    "        \n",
    "        z_prior = self.prior(hidden)\n",
    "        z_infer = self.encoder(torch.cat([x,hidden], dim=1))\n",
    "        z = Variable(torch.randn(x.size(0),50)).to(device)*z_infer[:,50:].exp()+z_infer[:,:50]\n",
    "        z = self.phi_z(z)\n",
    "        \n",
    "        # Decode\n",
    "        x_out = self.fc3(torch.cat([x,hidden], dim=1)).view(-1, 256 * 2 * 2, 1, 1)\n",
    "        x_out = F.relu(self.deconv1(x_out))\n",
    "        x_out = F.relu(self.deconv2(x_out))\n",
    "        x_out = F.relu(self.deconv3(x_out))\n",
    "        x_out = F.sigmoid(self.deconv4(x_out))\n",
    "        \n",
    "        hidden_next = self.rnn(torch.cat([x,z], dim=1),hidden)\n",
    "        return x_out, hidden_next, z_prior, z_infer\n",
    "    \n",
    "    def calculate_loss(self, x, hidden):\n",
    "        x_out, hidden_next, z_prior, z_infer = self.forward(x, hidden)\n",
    "        loss1 = nn.functional.binary_cross_entropy(x_out, x, reduction='sum')\n",
    "        \n",
    "        mu_infer, log_sigma_infer = z_infer[:,:50], z_infer[:,50:]\n",
    "        mu_prior, log_sigma_prior = z_prior[:,:50], z_prior[:,50:]\n",
    "        loss2 = (2*(log_sigma_infer-log_sigma_prior)).exp() \\\n",
    "                + ((mu_infer-mu_prior)/log_sigma_prior.exp())**2 \\\n",
    "                - 2*(log_sigma_infer-log_sigma_prior) - 1\n",
    "        loss2 = 0.5*loss2.sum(dim=1).mean()\n",
    "        return loss1, loss2, hidden_next\n",
    "    \n",
    "    def generate(self, hidden=None, temperature=None):\n",
    "        if hidden is None:\n",
    "            hidden = Variable(torch.zeros(1,256)).to(device)\n",
    "        if temperature is None:\n",
    "            temperature = 0.8\n",
    "        z_prior = self.prior(hidden)\n",
    "        z = Variable(torch.randn(z_prior.size(0),50)).to(device)*z_prior[:,50:].exp()+z_prior[:,:50]\n",
    "        z = self.phi_z(z)\n",
    "        \n",
    "        x_out = self.fc3(torch.cat([hidden, z], dim=1)).view(-1, 256*2*2,1,1)\n",
    "        x_out = F.relu(self.deconv1(x_out))\n",
    "        x_out = F.relu(self.deconv2(x_out))\n",
    "        x_out = F.relu(self.deconv3(x_out))\n",
    "        x_out = F.sigmoid(self.deconv4(x_out))\n",
    "        x_sample = x = x_out.div(temperature)\n",
    "        x_sample = x_sample.exp().squeeze_(0)\n",
    "        gen_image = []\n",
    "        for chan in x_sample:\n",
    "            gen_image.append(chan.multinomial(64).tolist())\n",
    "        gen_image_ar = torch.Tensor(gen_image) / 255.0\n",
    "        print(gen_image_ar.shape)\n",
    "        x = gen_image_ar\n",
    "        x = x.unsqueeze_(0)\n",
    "        x = F.relu(self.conv1(x))\n",
    "        x = F.relu(self.conv2(x))\n",
    "        x = F.relu(self.conv3(x))\n",
    "        x = F.relu(self.conv4(x))\n",
    "        x = x.view(-1, 256 * 2 * 2)\n",
    "        x = self.fc1(x)\n",
    "        hidden_next = self.rnn(torch.cat([x,z], dim=1), hidden)\n",
    "        return gen_image_ar[0], hidden_next\n",
    "    \n",
    "    def generate_images(self, n=10, temperature=None, hidden=None):\n",
    "        for _ in range(n):\n",
    "            x_sample, hidden = self.generate(hidden, temperature)\n",
    "            print(x_sample.shape)\n",
    "            x_sample = x_sample.permute((1,2,0))\n",
    "            plt.imshow(x_sample)\n",
    "            plt.show()"
   ]
  },
  {
   "cell_type": "code",
   "execution_count": 4,
   "metadata": {},
   "outputs": [],
   "source": [
    "def train_vrnn():\n",
    "    vrnn = VRNN().to(device)\n",
    "    hidden = Variable(torch.zeros(200,256)).to(device)\n",
    "    optimizer = torch.optim.Adam(vrnn.parameters(), lr=1e-3, weight_decay=1e-4)\n",
    "\n",
    "    dataset = LSTMDataset()\n",
    "    dataloader = DataLoader(dataset, batch_size=1, num_workers=1, collate_fn=collate_fn)\n",
    "    epochs = 2\n",
    "    \n",
    "    for e in range(epochs):\n",
    "        print(\"Epoch: {}/{}\".format(e+1, epochs))\n",
    "        for batch_idx, (frames, actions) in enumerate(dataloader):\n",
    "            frames = frames.squeeze_(0).to(device)\n",
    "            #actions = actions.squeeze_(0).to(device)\n",
    "            x = frames\n",
    "\n",
    "            optimizer.zero_grad()\n",
    "            loss1, loss2, hidden = vrnn.calculate_loss(x, hidden)\n",
    "            loss = loss1 + loss2\n",
    "            loss.backward()\n",
    "            optimizer.step()\n",
    "            hidden.detach_()\n",
    "            if batch_idx % 20 == 0:\n",
    "                print('loss: {}'.format(loss))\n",
    "                print('bce loss: {}'.format(loss1))\n",
    "                print('kl loss: {}'.format(loss2))\n",
    "    \n",
    "    torch.save(vrnn.state_dict(), 'vrnn.pt')"
   ]
  },
  {
   "cell_type": "code",
   "execution_count": 13,
   "metadata": {},
   "outputs": [
    {
     "name": "stdout",
     "output_type": "stream",
     "text": [
      "Epoch: 1/2\n"
     ]
    },
    {
     "name": "stderr",
     "output_type": "stream",
     "text": [
      "/usr/local/lib/python3.6/site-packages/torch/nn/functional.py:1006: UserWarning: nn.functional.sigmoid is deprecated. Use torch.sigmoid instead.\n",
      "  warnings.warn(\"nn.functional.sigmoid is deprecated. Use torch.sigmoid instead.\")\n"
     ]
    },
    {
     "name": "stdout",
     "output_type": "stream",
     "text": [
      "loss: 1701696.5\n",
      "bce loss: 1701696.375\n",
      "kl loss: 0.18613851070404053\n",
      "loss: 1555033.25\n",
      "bce loss: 1555032.625\n",
      "kl loss: 0.6294601559638977\n",
      "loss: 1454594.125\n",
      "bce loss: 1454594.0\n",
      "kl loss: 0.17732812464237213\n",
      "loss: 1399301.75\n",
      "bce loss: 1399301.625\n",
      "kl loss: 0.1107688620686531\n",
      "loss: 1381183.125\n",
      "bce loss: 1381183.0\n",
      "kl loss: 0.06721028685569763\n",
      "Epoch: 2/2\n",
      "loss: 1337625.5\n",
      "bce loss: 1337625.5\n",
      "kl loss: 0.0610223226249218\n",
      "loss: 1385643.875\n",
      "bce loss: 1385643.75\n",
      "kl loss: 0.13657361268997192\n",
      "loss: 1403288.75\n",
      "bce loss: 1403288.75\n",
      "kl loss: 0.05012085288763046\n",
      "loss: 1382155.0\n",
      "bce loss: 1382155.0\n",
      "kl loss: 0.03593295440077782\n",
      "loss: 1362082.25\n",
      "bce loss: 1362082.25\n",
      "kl loss: 0.03605717048048973\n"
     ]
    }
   ],
   "source": [
    "train_vrnn()"
   ]
  },
  {
   "cell_type": "code",
   "execution_count": 14,
   "metadata": {},
   "outputs": [
    {
     "data": {
      "image/png": "[encoded data removed]",
      "text/plain": [
       "<Figure size 432x288 with 1 Axes>"
      ]
     },
     "metadata": {},
     "output_type": "display_data"
    },
    {
     "name": "stdout",
     "output_type": "stream",
     "text": [
      "torch.Size([1, 64, 64, 3])\n"
     ]
    },
    {
     "name": "stderr",
     "output_type": "stream",
     "text": [
      "/usr/local/lib/python3.6/site-packages/torch/nn/functional.py:1006: UserWarning: nn.functional.sigmoid is deprecated. Use torch.sigmoid instead.\n",
      "  warnings.warn(\"nn.functional.sigmoid is deprecated. Use torch.sigmoid instead.\")\n"
     ]
    },
    {
     "data": {
      "image/png": "[encoded data removed]",
      "text/plain": [
       "<Figure size 432x288 with 1 Axes>"
      ]
     },
     "metadata": {},
     "output_type": "display_data"
    }
   ],
   "source": [
    "# Test\n",
    "# Two problems:\n",
    "# 1. Not learning very much over 10 epochs\n",
    "# 2. Generate is not working at all\n",
    "vrnn = VRNN().to(device)\n",
    "vrnn.load_state_dict(torch.load('vrnn.pt', map_location='cpu'))\n",
    "\n",
    "img = np.load('/floyd/input/car_racing_data/trial_1995_0.npz')['obs'][120]\n",
    "img = Image.fromarray(img).resize((64,64))\n",
    "plt.imshow(img)\n",
    "plt.show()\n",
    "hidden = torch.randn(1,256).to(device)\n",
    "#vrnn.generate_images(1)\n",
    "im = vrnn(ToTensor()(img).unsqueeze_(0).to(device),hidden)[0].detach()\n",
    "print(im.permute(0,2,3,1).shape)\n",
    "plt.imshow(im.permute((0,2,3,1))[0])\n",
    "plt.show()"
   ]
  },
  {
   "cell_type": "code",
   "execution_count": 8,
   "metadata": {},
   "outputs": [
    {
     "ename": "NameError",
     "evalue": "name 'im' is not defined",
     "output_type": "error",
     "traceback": [
      "\u001b[0;31m---------------------------------------------------------------------------\u001b[0m",
      "\u001b[0;31mNameError\u001b[0m                                 Traceback (most recent call last)",
      "\u001b[0;32m<ipython-input-8-0355bb170f74>\u001b[0m in \u001b[0;36m<module>\u001b[0;34m()\u001b[0m\n\u001b[0;32m----> 1\u001b[0;31m \u001b[0mimg\u001b[0m \u001b[0;34m=\u001b[0m \u001b[0mim\u001b[0m\u001b[0;34m.\u001b[0m\u001b[0mcpu\u001b[0m\u001b[0;34m(\u001b[0m\u001b[0;34m)\u001b[0m\u001b[0;34m.\u001b[0m\u001b[0mpermute\u001b[0m\u001b[0;34m(\u001b[0m\u001b[0;34m(\u001b[0m\u001b[0;36m0\u001b[0m\u001b[0;34m,\u001b[0m\u001b[0;36m2\u001b[0m\u001b[0;34m,\u001b[0m\u001b[0;36m3\u001b[0m\u001b[0;34m,\u001b[0m\u001b[0;36m1\u001b[0m\u001b[0;34m)\u001b[0m\u001b[0;34m)\u001b[0m\u001b[0;34m\u001b[0m\u001b[0m\n\u001b[0m\u001b[1;32m      2\u001b[0m \u001b[0;32mfor\u001b[0m \u001b[0m_\u001b[0m \u001b[0;32min\u001b[0m \u001b[0mrange\u001b[0m\u001b[0;34m(\u001b[0m\u001b[0;36m50\u001b[0m\u001b[0;34m)\u001b[0m\u001b[0;34m:\u001b[0m\u001b[0;34m\u001b[0m\u001b[0m\n\u001b[1;32m      3\u001b[0m     \u001b[0mim_to_show\u001b[0m \u001b[0;34m=\u001b[0m \u001b[0mimg\u001b[0m\u001b[0;34m.\u001b[0m\u001b[0mdetach\u001b[0m\u001b[0;34m(\u001b[0m\u001b[0;34m)\u001b[0m\u001b[0;34m.\u001b[0m\u001b[0mnumpy\u001b[0m\u001b[0;34m(\u001b[0m\u001b[0;34m)\u001b[0m\u001b[0;34m[\u001b[0m\u001b[0;36m0\u001b[0m\u001b[0;34m]\u001b[0m\u001b[0;34m\u001b[0m\u001b[0m\n\u001b[1;32m      4\u001b[0m     \u001b[0mplt\u001b[0m\u001b[0;34m.\u001b[0m\u001b[0mimshow\u001b[0m\u001b[0;34m(\u001b[0m\u001b[0mim_to_show\u001b[0m\u001b[0;34m)\u001b[0m\u001b[0;34m\u001b[0m\u001b[0m\n",
      "\u001b[0;31mNameError\u001b[0m: name 'im' is not defined"
     ]
    }
   ],
   "source": [
    "img = im.cpu().permute((0,2,3,1))\n",
    "for _ in range(50):\n",
    "    im_to_show = img.detach().numpy()[0]\n",
    "    plt.imshow(im_to_show)"
   ]
  },
  {
   "cell_type": "markdown",
   "metadata": {},
   "source": [
    "## LSTM-MDN"
   ]
  },
  {
   "cell_type": "code",
   "execution_count": 5,
   "metadata": {},
   "outputs": [],
   "source": [
    "BATCH_SIZE = 1 # 100\n",
    "MAX_SEQ_LEN = 199 # 999\n",
    "\n",
    "LATENT_VEC = 50\n",
    "HIDDEN_UNITS = 256\n",
    "HIDDEN_DIM = 256\n",
    "TEMPERATURE = 1.15\n",
    "GAUSSIANS = 5\n",
    "NUM_LAYERS = 1\n",
    "PARAMS_CONTROLLER = HIDDEN_UNITS * NUM_LAYERS * 2 + LATENT_VEC\n",
    "MDN_CONST = 1.0 / math.sqrt(2.0 * math.pi)\n",
    "EPSILON = 1e-6\n",
    "\n",
    "MAX_PLAYS = MAX_SEQ_LEN + 1\n",
    "class LSTM(nn.Module):\n",
    "    def __init__(self, sequence_len, batch_size, hidden_units, z_dim, num_layers, n_gaussians, hidden_dim):\n",
    "        super(LSTM, self).__init__()\n",
    "        \n",
    "        self.batch_size = batch_size\n",
    "        self.n_gaussians = n_gaussians\n",
    "        self.num_layers = num_layers\n",
    "        self.z_dim = z_dim\n",
    "        self.hidden_dim = hidden_dim\n",
    "        self.hidden_units = hidden_units\n",
    "        self.sequence_len = sequence_len\n",
    "        self.hidden = self.init_hidden(self.sequence_len)\n",
    "\n",
    "        self.fc1 = nn.Linear(self.z_dim + 3, self.hidden_dim)\n",
    "        self.lstm = nn.LSTM(self.hidden_dim, hidden_units, num_layers)\n",
    "        self.z_pi = nn.Linear(hidden_units, n_gaussians * self.z_dim)\n",
    "        self.z_sigma = nn.Linear(hidden_units, n_gaussians * self.z_dim)\n",
    "        self.z_mu = nn.Linear(hidden_units, n_gaussians * self.z_dim) \n",
    "\n",
    "\n",
    "    def forward(self, x):\n",
    "        self.lstm.flatten_parameters()\n",
    "        sequence = x.size()[1]\n",
    "\n",
    "        # Hidden state\n",
    "        x = F.relu(self.fc1(x))\n",
    "        z, self.hidden = self.lstm(x, self.hidden)\n",
    "\n",
    "        pi = self.z_pi(z).view(-1, sequence, self.n_gaussians, self.z_dim)\n",
    "        pi = F.softmax(pi, dim=2)\n",
    "        pi = pi / TEMPERATURE\n",
    "\n",
    "        sigma = torch.exp(self.z_sigma(z)).view(-1, sequence,\n",
    "                        self.n_gaussians, self.z_dim)\n",
    "        sigma = sigma * (TEMPERATURE ** 0.5)\n",
    "        mu = self.z_mu(z).view(-1, sequence, self.n_gaussians, self.z_dim)\n",
    "    \n",
    "        return pi, sigma, mu\n",
    "\n",
    "\n",
    "    def init_hidden(self, sequence):\n",
    "        hidden = torch.zeros(self.num_layers, self.batch_size, self.hidden_units, device=device)\n",
    "        cell = torch.zeros(self.num_layers, self.batch_size, self.hidden_units, device=device)\n",
    "        return hidden, cell"
   ]
  },
  {
   "cell_type": "code",
   "execution_count": 6,
   "metadata": {},
   "outputs": [],
   "source": [
    "class LSTMDataset(Dataset):\n",
    "\n",
    "    def __init__(self):\n",
    "        \"\"\" Instanciate a dataset extending PyTorch \"\"\"\n",
    "        self.frames = []\n",
    "        self.actions = []\n",
    "        self.done = False\n",
    "        \n",
    "#         with open('/Users/zachrash/Desktop/driving_data/driving_log.csv') as f:\n",
    "#             data = csv.reader(f, delimiter=',')\n",
    "#             i = 0\n",
    "#             frame = []\n",
    "#             action = []\n",
    "#             for j, (im, _, _, steering_angle, _, _, _) in enumerate(data):\n",
    "#                 frame.append(np.array(Image.open(im).convert('RGB').resize((128,128))))\n",
    "#                 action.append(float(steering_angle))\n",
    "#                 i += 1\n",
    "#                 if i == MAX_PLAYS:\n",
    "#                     self.frames.append(frame)\n",
    "#                     self.actions.append(action)\n",
    "#                     frame = []\n",
    "#                     action = []\n",
    "#                     i = 0\n",
    "\n",
    "        data_arr = []\n",
    "        for i in os.listdir('/floyd/input/car_racing_data/'):\n",
    "            data_arr.append(np.load(os.path.join('/floyd/input/car_racing_data/', i)))\n",
    "        c = 0\n",
    "        action = []\n",
    "        frame = []\n",
    "        for data in data_arr:\n",
    "            for ob in data['obs']:\n",
    "                frame.append(np.array(Image.fromarray(ob).resize((64,64))))\n",
    "            for act in data['action']:\n",
    "                action.append(np.array(act))\n",
    "        \n",
    "        self.frames = np.array_split(frame, len(frame) / MAX_PLAYS)\n",
    "        self.actions = np.array_split(action, len(action) / MAX_PLAYS)\n",
    "        temp = list(zip(self.frames, self.actions))\n",
    "        np.random.shuffle(temp)\n",
    "        frames, actions = zip(*temp)\n",
    "        self.frames = np.array(frames)\n",
    "        self.actions = np.array(actions)\n",
    "                \n",
    "\n",
    "    def __len__(self):\n",
    "        return self.frames.shape[0]\n",
    "\n",
    "    def __getitem__(self, idx):\n",
    "        \"\"\"Return zs, actions\"\"\"\n",
    "        if self.frames[idx].shape[0] == 201:\n",
    "            self.frames[idx] = self.frames[idx][:-1,:,:,:]\n",
    "        if self.actions[idx].shape[0] == 201:\n",
    "            self.actions[idx] = self.actions[idx][:-1,:]\n",
    "        return np.rollaxis(self.frames[idx], 3, 1), \\\n",
    "               self.actions[idx]"
   ]
  },
  {
   "cell_type": "code",
   "execution_count": 60,
   "metadata": {},
   "outputs": [
    {
     "ename": "AxisError",
     "evalue": "Traceback (most recent call last):\n  File \"/usr/local/lib/python3.6/site-packages/torch/utils/data/dataloader.py\", line 106, in _worker_loop\n    samples = collate_fn([dataset[i] for i in batch_indices])\n  File \"/usr/local/lib/python3.6/site-packages/torch/utils/data/dataloader.py\", line 106, in <listcomp>\n    samples = collate_fn([dataset[i] for i in batch_indices])\n  File \"<ipython-input-10-3bdd56eef1bf>\", line 55, in __getitem__\n    return np.rollaxis(self.frames[idx], 3, 1),                self.actions[idx]\n  File \"/usr/local/lib/python3.6/site-packages/numpy/core/numeric.py\", line 1451, in rollaxis\n    axis = normalize_axis_index(axis, n)\nnumpy.core._internal.AxisError: axis 3 is out of bounds for array of dimension 1\n",
     "output_type": "error",
     "traceback": [
      "\u001b[0;31m---------------------------------------------------------------------------\u001b[0m",
      "\u001b[0;31mAxisError\u001b[0m                                 Traceback (most recent call last)",
      "\u001b[0;32m<ipython-input-60-bc9fbf70bda1>\u001b[0m in \u001b[0;36m<module>\u001b[0;34m()\u001b[0m\n\u001b[1;32m      2\u001b[0m \u001b[0md\u001b[0m \u001b[0;34m=\u001b[0m \u001b[0mLSTMDataset\u001b[0m\u001b[0;34m(\u001b[0m\u001b[0;34m)\u001b[0m\u001b[0;34m\u001b[0m\u001b[0m\n\u001b[1;32m      3\u001b[0m \u001b[0mdataloadertest\u001b[0m \u001b[0;34m=\u001b[0m \u001b[0mDataLoader\u001b[0m\u001b[0;34m(\u001b[0m\u001b[0md\u001b[0m\u001b[0;34m,\u001b[0m \u001b[0mbatch_size\u001b[0m\u001b[0;34m=\u001b[0m\u001b[0;36m1\u001b[0m\u001b[0;34m,\u001b[0m \u001b[0mnum_workers\u001b[0m\u001b[0;34m=\u001b[0m\u001b[0;36m4\u001b[0m\u001b[0;34m,\u001b[0m \u001b[0mcollate_fn\u001b[0m\u001b[0;34m=\u001b[0m\u001b[0mcollate_fn\u001b[0m\u001b[0;34m)\u001b[0m\u001b[0;34m\u001b[0m\u001b[0m\n\u001b[0;32m----> 4\u001b[0;31m \u001b[0;32mfor\u001b[0m \u001b[0mim\u001b[0m\u001b[0;34m,\u001b[0m \u001b[0mac\u001b[0m \u001b[0;32min\u001b[0m \u001b[0mdataloadertest\u001b[0m\u001b[0;34m:\u001b[0m\u001b[0;34m\u001b[0m\u001b[0m\n\u001b[0m\u001b[1;32m      5\u001b[0m     \u001b[0;32mfor\u001b[0m \u001b[0mi\u001b[0m \u001b[0;32min\u001b[0m \u001b[0mim\u001b[0m\u001b[0;34m:\u001b[0m\u001b[0;34m\u001b[0m\u001b[0m\n\u001b[1;32m      6\u001b[0m         \u001b[0;31m#print c\u001b[0m\u001b[0;34m\u001b[0m\u001b[0;34m\u001b[0m\u001b[0m\n",
      "\u001b[0;32m/usr/local/lib/python3.6/site-packages/torch/utils/data/dataloader.py\u001b[0m in \u001b[0;36m__next__\u001b[0;34m(self)\u001b[0m\n\u001b[1;32m    334\u001b[0m                 \u001b[0mself\u001b[0m\u001b[0;34m.\u001b[0m\u001b[0mreorder_dict\u001b[0m\u001b[0;34m[\u001b[0m\u001b[0midx\u001b[0m\u001b[0;34m]\u001b[0m \u001b[0;34m=\u001b[0m \u001b[0mbatch\u001b[0m\u001b[0;34m\u001b[0m\u001b[0m\n\u001b[1;32m    335\u001b[0m                 \u001b[0;32mcontinue\u001b[0m\u001b[0;34m\u001b[0m\u001b[0m\n\u001b[0;32m--> 336\u001b[0;31m             \u001b[0;32mreturn\u001b[0m \u001b[0mself\u001b[0m\u001b[0;34m.\u001b[0m\u001b[0m_process_next_batch\u001b[0m\u001b[0;34m(\u001b[0m\u001b[0mbatch\u001b[0m\u001b[0;34m)\u001b[0m\u001b[0;34m\u001b[0m\u001b[0m\n\u001b[0m\u001b[1;32m    337\u001b[0m \u001b[0;34m\u001b[0m\u001b[0m\n\u001b[1;32m    338\u001b[0m     \u001b[0mnext\u001b[0m \u001b[0;34m=\u001b[0m \u001b[0m__next__\u001b[0m  \u001b[0;31m# Python 2 compatibility\u001b[0m\u001b[0;34m\u001b[0m\u001b[0m\n",
      "\u001b[0;32m/usr/local/lib/python3.6/site-packages/torch/utils/data/dataloader.py\u001b[0m in \u001b[0;36m_process_next_batch\u001b[0;34m(self, batch)\u001b[0m\n\u001b[1;32m    355\u001b[0m         \u001b[0mself\u001b[0m\u001b[0;34m.\u001b[0m\u001b[0m_put_indices\u001b[0m\u001b[0;34m(\u001b[0m\u001b[0;34m)\u001b[0m\u001b[0;34m\u001b[0m\u001b[0m\n\u001b[1;32m    356\u001b[0m         \u001b[0;32mif\u001b[0m \u001b[0misinstance\u001b[0m\u001b[0;34m(\u001b[0m\u001b[0mbatch\u001b[0m\u001b[0;34m,\u001b[0m \u001b[0mExceptionWrapper\u001b[0m\u001b[0;34m)\u001b[0m\u001b[0;34m:\u001b[0m\u001b[0;34m\u001b[0m\u001b[0m\n\u001b[0;32m--> 357\u001b[0;31m             \u001b[0;32mraise\u001b[0m \u001b[0mbatch\u001b[0m\u001b[0;34m.\u001b[0m\u001b[0mexc_type\u001b[0m\u001b[0;34m(\u001b[0m\u001b[0mbatch\u001b[0m\u001b[0;34m.\u001b[0m\u001b[0mexc_msg\u001b[0m\u001b[0;34m)\u001b[0m\u001b[0;34m\u001b[0m\u001b[0m\n\u001b[0m\u001b[1;32m    358\u001b[0m         \u001b[0;32mreturn\u001b[0m \u001b[0mbatch\u001b[0m\u001b[0;34m\u001b[0m\u001b[0m\n\u001b[1;32m    359\u001b[0m \u001b[0;34m\u001b[0m\u001b[0m\n",
      "\u001b[0;31mAxisError\u001b[0m: Traceback (most recent call last):\n  File \"/usr/local/lib/python3.6/site-packages/torch/utils/data/dataloader.py\", line 106, in _worker_loop\n    samples = collate_fn([dataset[i] for i in batch_indices])\n  File \"/usr/local/lib/python3.6/site-packages/torch/utils/data/dataloader.py\", line 106, in <listcomp>\n    samples = collate_fn([dataset[i] for i in batch_indices])\n  File \"<ipython-input-10-3bdd56eef1bf>\", line 55, in __getitem__\n    return np.rollaxis(self.frames[idx], 3, 1),                self.actions[idx]\n  File \"/usr/local/lib/python3.6/site-packages/numpy/core/numeric.py\", line 1451, in rollaxis\n    axis = normalize_axis_index(axis, n)\nnumpy.core._internal.AxisError: axis 3 is out of bounds for array of dimension 1\n"
     ]
    }
   ],
   "source": [
    "# Test dataset\n",
    "d = LSTMDataset()\n",
    "dataloadertest = DataLoader(d, batch_size=1, num_workers=4, collate_fn=collate_fn)\n",
    "for im, ac in dataloadertest:\n",
    "    for i in im:\n",
    "        #print c\n",
    "        i = i.permute(1,2,0)\n",
    "        plt.imshow(i)\n",
    "        plt.show()\n",
    "        continue"
   ]
  },
  {
   "cell_type": "code",
   "execution_count": 7,
   "metadata": {},
   "outputs": [],
   "source": [
    "def mdn_loss_function(out_pi, out_sigma, out_mu, y):\n",
    "    \"\"\"\n",
    "    Mixed Density Network loss function, see : \n",
    "    https://mikedusenberry.com/mixture-density-networks\n",
    "    \"\"\"\n",
    "    result = Normal(loc=out_mu, scale=out_sigma)\n",
    "    y = y.view(MAX_SEQ_LEN+1, BATCH_SIZE, LATENT_VEC+3)\n",
    "    result = torch.exp(result.log_prob(y))\n",
    "    result = torch.sum(result * out_pi, dim=2)\n",
    "    result = -torch.log(EPSILON + result)\n",
    "    return torch.mean(result)\n",
    "\n",
    "\n",
    "def sample_z(pi, sigma, mu):\n",
    "    return torch.sum(pi*(mu+sigma), dim=2)\n",
    "\n",
    "\n",
    "def collate_fn(example):\n",
    "    \"\"\" Custom way of flattening examples in a batch \"\"\"\n",
    "    frames = []\n",
    "    actions = []\n",
    "    for ex in example:\n",
    "        frames.extend(ex[0])\n",
    "        actions.extend(ex[1])\n",
    "    frames = torch.tensor(frames, dtype=torch.float) / 255.0\n",
    "    actions = torch.tensor(actions, dtype=torch.float)\n",
    "    return frames, actions\n",
    "\n",
    "\n",
    "def train_lstm():\n",
    "    # Init VAE\n",
    "    vae = VAE((320, 160, 3), 50).to(device)\n",
    "    vae.load_state_dict(torch.load('model.pt', map_location='cpu'))\n",
    "    \n",
    "    # Init LSTM\n",
    "    lstm = LSTM(MAX_SEQ_LEN, BATCH_SIZE, HIDDEN_UNITS, LATENT_VEC, NUM_LAYERS, GAUSSIANS, HIDDEN_DIM).to(device)\n",
    "    \n",
    "    optimizer = torch.optim.Adam(lstm.parameters(), lr=1e-3, weight_decay=1e-4)\n",
    "\n",
    "    dataset = LSTMDataset()\n",
    "    dataloader = DataLoader(dataset, batch_size=BATCH_SIZE, num_workers=4, collate_fn=collate_fn)\n",
    "    epochs = 100\n",
    "    \n",
    "    for e in range(epochs):\n",
    "        print(\"Epoch: {}/{}\".format(e+1, epochs))\n",
    "        for batch_idx, (frames, actions) in enumerate(dataloader):\n",
    "            frames = frames.squeeze_(0).to(device)\n",
    "            actions = actions.squeeze_(0).to(device)\n",
    "            encoded = vae(frames, encode=True)\n",
    "            example = {\n",
    "                'encoded': encoded,\n",
    "                'actions' : actions\n",
    "            }\n",
    "\n",
    "            optimizer.zero_grad()\n",
    "            lstm.hidden = lstm.init_hidden(MAX_SEQ_LEN+3) # ??\n",
    "#             x = torch.cat((example['encoded'],\n",
    "#                            example['actions'].view(-1, 3)), dim=1)\n",
    "#             x = x.view(MAX_SEQ_LEN+1, BATCH_SIZE, LATENT_VEC + 3)\n",
    "#             print(x.shape)\n",
    "\n",
    "#             ## Shift target encoded vector\n",
    "#             last_ex = example['encoded'][-1].view(-1, example['encoded'].size()[1])\n",
    "#             print(last_ex.shape)\n",
    "#             target = torch.cat((example['encoded'][1:example['encoded'].size()[0]],\\\n",
    "#                                   last_ex,), dim=1)\n",
    "#             print (target.shape)\n",
    "            \n",
    "            x = torch.cat((example['encoded'],\n",
    "                    example['actions']), dim=1)\n",
    "            #print(x.shape)\n",
    "            x = x.view(MAX_SEQ_LEN+1, 1, LATENT_VEC + 3)\n",
    "            #print(x_raw.shape)\n",
    "            # x = x_raw[:-1,:,:]\n",
    "            print(x.shape)\n",
    "            # print(example['encoded'][1:,:].unsqueeze_(0).shape)\n",
    "            target = example['encoded'][1:,:].unsqueeze_(0).view(MAX_SEQ_LEN, BATCH_SIZE, LATENT_VEC)\n",
    "            # print (target.shape)\n",
    "            \n",
    "            last_ex = example['encoded'][-1].view(-1, example['encoded'].size()[1])\n",
    "            target = torch.cat((example['encoded'][1:example['encoded'].size()[0]],last_ex,))\n",
    "            pi, sigma, mu = lstm(x)\n",
    "            loss = mdn_loss_function(pi, sigma, mu, target)\n",
    "            loss.backward()\n",
    "            optimizer.step()\n",
    "            if batch_idx %20 == 0:\n",
    "                print('Loss: {}'.format(float(loss.data)))\n",
    "            \n",
    "    torch.save(lstm.state_dict(), 'lstm.pt')"
   ]
  },
  {
   "cell_type": "code",
   "execution_count": 70,
   "metadata": {},
   "outputs": [
    {
     "name": "stdout",
     "output_type": "stream",
     "text": [
      "Epoch: 1/100\n",
      "torch.Size([200, 1, 53])\n"
     ]
    },
    {
     "ename": "RuntimeError",
     "evalue": "invalid argument 2: size '[200 x 1 x 53]' is invalid for input with 10000 elements at /pytorch/aten/src/TH/THStorage.cpp:84",
     "output_type": "error",
     "traceback": [
      "\u001b[0;31m---------------------------------------------------------------------------\u001b[0m",
      "\u001b[0;31mRuntimeError\u001b[0m                              Traceback (most recent call last)",
      "\u001b[0;32m<ipython-input-70-18c7a05580ab>\u001b[0m in \u001b[0;36m<module>\u001b[0;34m()\u001b[0m\n\u001b[0;32m----> 1\u001b[0;31m \u001b[0mtrain_lstm\u001b[0m\u001b[0;34m(\u001b[0m\u001b[0;34m)\u001b[0m\u001b[0;34m\u001b[0m\u001b[0m\n\u001b[0m",
      "\u001b[0;32m<ipython-input-69-2420165fab34>\u001b[0m in \u001b[0;36mtrain_lstm\u001b[0;34m()\u001b[0m\n\u001b[1;32m     81\u001b[0m             \u001b[0mtarget\u001b[0m \u001b[0;34m=\u001b[0m \u001b[0mtorch\u001b[0m\u001b[0;34m.\u001b[0m\u001b[0mcat\u001b[0m\u001b[0;34m(\u001b[0m\u001b[0;34m(\u001b[0m\u001b[0mexample\u001b[0m\u001b[0;34m[\u001b[0m\u001b[0;34m'encoded'\u001b[0m\u001b[0;34m]\u001b[0m\u001b[0;34m[\u001b[0m\u001b[0;36m1\u001b[0m\u001b[0;34m:\u001b[0m\u001b[0mexample\u001b[0m\u001b[0;34m[\u001b[0m\u001b[0;34m'encoded'\u001b[0m\u001b[0;34m]\u001b[0m\u001b[0;34m.\u001b[0m\u001b[0msize\u001b[0m\u001b[0;34m(\u001b[0m\u001b[0;34m)\u001b[0m\u001b[0;34m[\u001b[0m\u001b[0;36m0\u001b[0m\u001b[0;34m]\u001b[0m\u001b[0;34m]\u001b[0m\u001b[0;34m,\u001b[0m\u001b[0mlast_ex\u001b[0m\u001b[0;34m,\u001b[0m\u001b[0;34m)\u001b[0m\u001b[0;34m)\u001b[0m\u001b[0;34m\u001b[0m\u001b[0m\n\u001b[1;32m     82\u001b[0m             \u001b[0mpi\u001b[0m\u001b[0;34m,\u001b[0m \u001b[0msigma\u001b[0m\u001b[0;34m,\u001b[0m \u001b[0mmu\u001b[0m \u001b[0;34m=\u001b[0m \u001b[0mlstm\u001b[0m\u001b[0;34m(\u001b[0m\u001b[0mx\u001b[0m\u001b[0;34m)\u001b[0m\u001b[0;34m\u001b[0m\u001b[0m\n\u001b[0;32m---> 83\u001b[0;31m             \u001b[0mloss\u001b[0m \u001b[0;34m=\u001b[0m \u001b[0mmdn_loss_function\u001b[0m\u001b[0;34m(\u001b[0m\u001b[0mpi\u001b[0m\u001b[0;34m,\u001b[0m \u001b[0msigma\u001b[0m\u001b[0;34m,\u001b[0m \u001b[0mmu\u001b[0m\u001b[0;34m,\u001b[0m \u001b[0mtarget\u001b[0m\u001b[0;34m)\u001b[0m\u001b[0;34m\u001b[0m\u001b[0m\n\u001b[0m\u001b[1;32m     84\u001b[0m             \u001b[0mloss\u001b[0m\u001b[0;34m.\u001b[0m\u001b[0mbackward\u001b[0m\u001b[0;34m(\u001b[0m\u001b[0;34m)\u001b[0m\u001b[0;34m\u001b[0m\u001b[0m\n\u001b[1;32m     85\u001b[0m             \u001b[0moptimizer\u001b[0m\u001b[0;34m.\u001b[0m\u001b[0mstep\u001b[0m\u001b[0;34m(\u001b[0m\u001b[0;34m)\u001b[0m\u001b[0;34m\u001b[0m\u001b[0m\n",
      "\u001b[0;32m<ipython-input-69-2420165fab34>\u001b[0m in \u001b[0;36mmdn_loss_function\u001b[0;34m(out_pi, out_sigma, out_mu, y)\u001b[0m\n\u001b[1;32m      5\u001b[0m     \"\"\"\n\u001b[1;32m      6\u001b[0m     \u001b[0mresult\u001b[0m \u001b[0;34m=\u001b[0m \u001b[0mNormal\u001b[0m\u001b[0;34m(\u001b[0m\u001b[0mloc\u001b[0m\u001b[0;34m=\u001b[0m\u001b[0mout_mu\u001b[0m\u001b[0;34m,\u001b[0m \u001b[0mscale\u001b[0m\u001b[0;34m=\u001b[0m\u001b[0mout_sigma\u001b[0m\u001b[0;34m)\u001b[0m\u001b[0;34m\u001b[0m\u001b[0m\n\u001b[0;32m----> 7\u001b[0;31m     \u001b[0my\u001b[0m \u001b[0;34m=\u001b[0m \u001b[0my\u001b[0m\u001b[0;34m.\u001b[0m\u001b[0mview\u001b[0m\u001b[0;34m(\u001b[0m\u001b[0mMAX_SEQ_LEN\u001b[0m\u001b[0;34m+\u001b[0m\u001b[0;36m1\u001b[0m\u001b[0;34m,\u001b[0m \u001b[0mBATCH_SIZE\u001b[0m\u001b[0;34m,\u001b[0m \u001b[0mLATENT_VEC\u001b[0m\u001b[0;34m+\u001b[0m\u001b[0;36m3\u001b[0m\u001b[0;34m)\u001b[0m\u001b[0;34m\u001b[0m\u001b[0m\n\u001b[0m\u001b[1;32m      8\u001b[0m     \u001b[0mresult\u001b[0m \u001b[0;34m=\u001b[0m \u001b[0mtorch\u001b[0m\u001b[0;34m.\u001b[0m\u001b[0mexp\u001b[0m\u001b[0;34m(\u001b[0m\u001b[0mresult\u001b[0m\u001b[0;34m.\u001b[0m\u001b[0mlog_prob\u001b[0m\u001b[0;34m(\u001b[0m\u001b[0my\u001b[0m\u001b[0;34m)\u001b[0m\u001b[0;34m)\u001b[0m\u001b[0;34m\u001b[0m\u001b[0m\n\u001b[1;32m      9\u001b[0m     \u001b[0mresult\u001b[0m \u001b[0;34m=\u001b[0m \u001b[0mtorch\u001b[0m\u001b[0;34m.\u001b[0m\u001b[0msum\u001b[0m\u001b[0;34m(\u001b[0m\u001b[0mresult\u001b[0m \u001b[0;34m*\u001b[0m \u001b[0mout_pi\u001b[0m\u001b[0;34m,\u001b[0m \u001b[0mdim\u001b[0m\u001b[0;34m=\u001b[0m\u001b[0;36m2\u001b[0m\u001b[0;34m)\u001b[0m\u001b[0;34m\u001b[0m\u001b[0m\n",
      "\u001b[0;31mRuntimeError\u001b[0m: invalid argument 2: size '[200 x 1 x 53]' is invalid for input with 10000 elements at /pytorch/aten/src/TH/THStorage.cpp:84"
     ]
    }
   ],
   "source": [
    "train_lstm()"
   ]
  },
  {
   "cell_type": "code",
   "execution_count": 13,
   "metadata": {},
   "outputs": [],
   "source": [
    "lstm = LSTM(1, BATCH_SIZE, HIDDEN_UNITS, LATENT_VEC, NUM_LAYERS, GAUSSIANS, HIDDEN_DIM).to(device)\n",
    "lstm.load_state_dict(torch.load('lstm.pt', map_location='cpu'))"
   ]
  },
  {
   "cell_type": "code",
   "execution_count": 14,
   "metadata": {},
   "outputs": [
    {
     "ename": "FileNotFoundError",
     "evalue": "[Errno 2] No such file or directory: '/Users/zachrash/Desktop/driving_data/driving_log.csv'",
     "output_type": "error",
     "traceback": [
      "\u001b[0;31m---------------------------------------------------------------------------\u001b[0m",
      "\u001b[0;31mFileNotFoundError\u001b[0m                         Traceback (most recent call last)",
      "\u001b[0;32m<ipython-input-14-71202efc2680>\u001b[0m in \u001b[0;36m<module>\u001b[0;34m()\u001b[0m\n\u001b[1;32m      2\u001b[0m \u001b[0mdata_dir\u001b[0m \u001b[0;34m=\u001b[0m \u001b[0;34m'/Users/zachrash/Desktop/driving_data/driving_log.csv'\u001b[0m\u001b[0;34m\u001b[0m\u001b[0m\n\u001b[1;32m      3\u001b[0m \u001b[0mr\u001b[0m \u001b[0;34m=\u001b[0m \u001b[0mrandom\u001b[0m\u001b[0;34m.\u001b[0m\u001b[0mrandint\u001b[0m\u001b[0;34m(\u001b[0m\u001b[0;36m0\u001b[0m\u001b[0;34m,\u001b[0m \u001b[0;36m800\u001b[0m\u001b[0;34m)\u001b[0m\u001b[0;34m\u001b[0m\u001b[0m\n\u001b[0;32m----> 4\u001b[0;31m \u001b[0;32mwith\u001b[0m \u001b[0mopen\u001b[0m\u001b[0;34m(\u001b[0m\u001b[0mdata_dir\u001b[0m\u001b[0;34m,\u001b[0m \u001b[0;34m'r'\u001b[0m\u001b[0;34m)\u001b[0m \u001b[0;32mas\u001b[0m \u001b[0mf\u001b[0m\u001b[0;34m:\u001b[0m\u001b[0;34m\u001b[0m\u001b[0m\n\u001b[0m\u001b[1;32m      5\u001b[0m     \u001b[0mdata\u001b[0m \u001b[0;34m=\u001b[0m \u001b[0mcsv\u001b[0m\u001b[0;34m.\u001b[0m\u001b[0mreader\u001b[0m\u001b[0;34m(\u001b[0m\u001b[0mf\u001b[0m\u001b[0;34m,\u001b[0m \u001b[0mdelimiter\u001b[0m\u001b[0;34m=\u001b[0m\u001b[0;34m','\u001b[0m\u001b[0;34m)\u001b[0m\u001b[0;34m\u001b[0m\u001b[0m\n\u001b[1;32m      6\u001b[0m     \u001b[0mangles\u001b[0m \u001b[0;34m=\u001b[0m \u001b[0;34m[\u001b[0m\u001b[0;34m]\u001b[0m\u001b[0;34m\u001b[0m\u001b[0m\n",
      "\u001b[0;31mFileNotFoundError\u001b[0m: [Errno 2] No such file or directory: '/Users/zachrash/Desktop/driving_data/driving_log.csv'"
     ]
    }
   ],
   "source": [
    "# Test VAE + LSTM\n",
    "data_dir = '/Users/zachrash/Desktop/driving_data/driving_log.csv'\n",
    "r = random.randint(0, 800)\n",
    "with open(data_dir, 'r') as f:\n",
    "    data = csv.reader(f, delimiter=',')\n",
    "    angles = []\n",
    "    for i, (images,_,_,a,_,_,_) in enumerate(data):\n",
    "        angles.append(float(a))\n",
    "        if i == r:\n",
    "            f_image = images\n",
    "            f_a = a\n",
    "        if i == r+30:\n",
    "            s_image = images\n",
    "            s_a = a\n",
    "\n",
    "im = vae(ToTensor()(Image.open(f_image).convert('RGB').resize((64,128))).unsqueeze_(0))[0]\n",
    "z = vae(ToTensor()(Image.open(f_image).convert('RGB').resize((128,128))).unsqueeze_(0), encode=True)\n",
    "next_z = z\n",
    "# for i in range(30):\n",
    "#     next_z = next_z[0]\n",
    "#     inp = torch.cat((z.unsqueeze_(0), torch.tensor([[angles[i]]])), dim=1).unsqueeze_(0)\n",
    "#     pi, sigma, mu = lstm(inp)\n",
    "#     _, z_next = torch.max(pi[0,0,:,:], 0)\n",
    "\n",
    "z = z[0].float()\n",
    "inp = torch.cat((z.unsqueeze_(0), torch.tensor([[angles[i]]])), dim=1).unsqueeze_(0)\n",
    "pi, sigma, mu = lstm(inp)\n",
    "\n",
    "z = sample_z(pi, sigma, mu)[0,0,:,:]\n",
    "\n",
    "im = vae.decode(z.float())\n",
    "im = ToPILImage()(im[0,:,:,:])\n",
    "plt.imshow(im)\n",
    "plt.show()\n",
    "# print pi[0].shape\n",
    "# print np.max(pi[0,0,:,:].detach().numpy())\n",
    "# for p in pi[0,0,:,:]:\n",
    "#     zs.append(p)\n",
    "\n",
    "# for z in zs:\n",
    "#     im = vae.decode(z.float())\n",
    "#     im = ToPILImage()(im[0,:,:,:])\n",
    "#     plt.imshow(im)\n",
    "#     plt.show()\n",
    "# _, z_next = torch.max(pi[0,0,:,:], 0)\n",
    "\n",
    "# next_im = vae.decode(z_next.float())\n",
    "# next_im = ToPILImage()(next_im[0,:,:,:])    \n",
    "# im = ToPILImage()(im[0,:,:,:])\n",
    "# plt.imshow(Image.open(f_image))\n",
    "# plt.show()\n",
    "# plt.imshow(im)\n",
    "# plt.show()\n",
    "# plt.imshow(Image.open(s_image))\n",
    "# plt.show()\n",
    "# plt.imshow(next_im)\n",
    "# plt.show()"
   ]
  },
  {
   "cell_type": "code",
   "execution_count": 14,
   "metadata": {},
   "outputs": [
    {
     "name": "stderr",
     "output_type": "stream",
     "text": [
      "/usr/local/lib/python3.6/site-packages/torch/nn/functional.py:1006: UserWarning: nn.functional.sigmoid is deprecated. Use torch.sigmoid instead.\n",
      "  warnings.warn(\"nn.functional.sigmoid is deprecated. Use torch.sigmoid instead.\")\n"
     ]
    },
    {
     "ename": "RuntimeError",
     "evalue": "Can't call numpy() on Variable that requires grad. Use var.detach().numpy() instead.",
     "output_type": "error",
     "traceback": [
      "\u001b[0;31m---------------------------------------------------------------------------\u001b[0m",
      "\u001b[0;31mRuntimeError\u001b[0m                              Traceback (most recent call last)",
      "\u001b[0;32m<ipython-input-14-a4062c0bfdad>\u001b[0m in \u001b[0;36m<module>\u001b[0;34m()\u001b[0m\n\u001b[1;32m     12\u001b[0m     \u001b[0mz_next\u001b[0m \u001b[0;34m=\u001b[0m \u001b[0mz_next\u001b[0m\u001b[0;34m.\u001b[0m\u001b[0msqueeze_\u001b[0m\u001b[0;34m(\u001b[0m\u001b[0;36m0\u001b[0m\u001b[0;34m)\u001b[0m\u001b[0;34m\u001b[0m\u001b[0m\n\u001b[1;32m     13\u001b[0m     \u001b[0;32mif\u001b[0m \u001b[0mi\u001b[0m \u001b[0;34m%\u001b[0m\u001b[0;36m100\u001b[0m \u001b[0;34m==\u001b[0m \u001b[0;36m0\u001b[0m\u001b[0;34m:\u001b[0m\u001b[0;34m\u001b[0m\u001b[0m\n\u001b[0;32m---> 14\u001b[0;31m         \u001b[0mplt\u001b[0m\u001b[0;34m.\u001b[0m\u001b[0mimshow\u001b[0m\u001b[0;34m(\u001b[0m\u001b[0mToPILImage\u001b[0m\u001b[0;34m(\u001b[0m\u001b[0;34m)\u001b[0m\u001b[0;34m(\u001b[0m\u001b[0mnext_im\u001b[0m\u001b[0;34m[\u001b[0m\u001b[0;36m0\u001b[0m\u001b[0;34m,\u001b[0m\u001b[0;34m:\u001b[0m\u001b[0;34m,\u001b[0m\u001b[0;34m:\u001b[0m\u001b[0;34m,\u001b[0m\u001b[0;34m:\u001b[0m\u001b[0;34m]\u001b[0m\u001b[0;34m)\u001b[0m\u001b[0;34m)\u001b[0m\u001b[0;34m\u001b[0m\u001b[0m\n\u001b[0m\u001b[1;32m     15\u001b[0m         \u001b[0mplt\u001b[0m\u001b[0;34m.\u001b[0m\u001b[0mshow\u001b[0m\u001b[0;34m(\u001b[0m\u001b[0;34m)\u001b[0m\u001b[0;34m\u001b[0m\u001b[0m\n",
      "\u001b[0;32m/usr/local/lib/python3.6/site-packages/torchvision/transforms/transforms.py\u001b[0m in \u001b[0;36m__call__\u001b[0;34m(self, pic)\u001b[0m\n\u001b[1;32m    108\u001b[0m \u001b[0;34m\u001b[0m\u001b[0m\n\u001b[1;32m    109\u001b[0m         \"\"\"\n\u001b[0;32m--> 110\u001b[0;31m         \u001b[0;32mreturn\u001b[0m \u001b[0mF\u001b[0m\u001b[0;34m.\u001b[0m\u001b[0mto_pil_image\u001b[0m\u001b[0;34m(\u001b[0m\u001b[0mpic\u001b[0m\u001b[0;34m,\u001b[0m \u001b[0mself\u001b[0m\u001b[0;34m.\u001b[0m\u001b[0mmode\u001b[0m\u001b[0;34m)\u001b[0m\u001b[0;34m\u001b[0m\u001b[0m\n\u001b[0m\u001b[1;32m    111\u001b[0m \u001b[0;34m\u001b[0m\u001b[0m\n\u001b[1;32m    112\u001b[0m     \u001b[0;32mdef\u001b[0m \u001b[0m__repr__\u001b[0m\u001b[0;34m(\u001b[0m\u001b[0mself\u001b[0m\u001b[0;34m)\u001b[0m\u001b[0;34m:\u001b[0m\u001b[0;34m\u001b[0m\u001b[0m\n",
      "\u001b[0;32m/usr/local/lib/python3.6/site-packages/torchvision/transforms/functional.py\u001b[0m in \u001b[0;36mto_pil_image\u001b[0;34m(pic, mode)\u001b[0m\n\u001b[1;32m    107\u001b[0m         \u001b[0mpic\u001b[0m \u001b[0;34m=\u001b[0m \u001b[0mpic\u001b[0m\u001b[0;34m.\u001b[0m\u001b[0mmul\u001b[0m\u001b[0;34m(\u001b[0m\u001b[0;36m255\u001b[0m\u001b[0;34m)\u001b[0m\u001b[0;34m.\u001b[0m\u001b[0mbyte\u001b[0m\u001b[0;34m(\u001b[0m\u001b[0;34m)\u001b[0m\u001b[0;34m\u001b[0m\u001b[0m\n\u001b[1;32m    108\u001b[0m     \u001b[0;32mif\u001b[0m \u001b[0mtorch\u001b[0m\u001b[0;34m.\u001b[0m\u001b[0mis_tensor\u001b[0m\u001b[0;34m(\u001b[0m\u001b[0mpic\u001b[0m\u001b[0;34m)\u001b[0m\u001b[0;34m:\u001b[0m\u001b[0;34m\u001b[0m\u001b[0m\n\u001b[0;32m--> 109\u001b[0;31m         \u001b[0mnpimg\u001b[0m \u001b[0;34m=\u001b[0m \u001b[0mnp\u001b[0m\u001b[0;34m.\u001b[0m\u001b[0mtranspose\u001b[0m\u001b[0;34m(\u001b[0m\u001b[0mpic\u001b[0m\u001b[0;34m.\u001b[0m\u001b[0mnumpy\u001b[0m\u001b[0;34m(\u001b[0m\u001b[0;34m)\u001b[0m\u001b[0;34m,\u001b[0m \u001b[0;34m(\u001b[0m\u001b[0;36m1\u001b[0m\u001b[0;34m,\u001b[0m \u001b[0;36m2\u001b[0m\u001b[0;34m,\u001b[0m \u001b[0;36m0\u001b[0m\u001b[0;34m)\u001b[0m\u001b[0;34m)\u001b[0m\u001b[0;34m\u001b[0m\u001b[0m\n\u001b[0m\u001b[1;32m    110\u001b[0m \u001b[0;34m\u001b[0m\u001b[0m\n\u001b[1;32m    111\u001b[0m     \u001b[0;32mif\u001b[0m \u001b[0;32mnot\u001b[0m \u001b[0misinstance\u001b[0m\u001b[0;34m(\u001b[0m\u001b[0mnpimg\u001b[0m\u001b[0;34m,\u001b[0m \u001b[0mnp\u001b[0m\u001b[0;34m.\u001b[0m\u001b[0mndarray\u001b[0m\u001b[0;34m)\u001b[0m\u001b[0;34m:\u001b[0m\u001b[0;34m\u001b[0m\u001b[0m\n",
      "\u001b[0;31mRuntimeError\u001b[0m: Can't call numpy() on Variable that requires grad. Use var.detach().numpy() instead."
     ]
    }
   ],
   "source": [
    "# Test Generative M\n",
    "z_next = Normal(0, 1).sample((1,50))\n",
    "\n",
    "for i in range(1000):\n",
    "    x = torch.cat((z_next,\n",
    "                  torch.Tensor([0.0]).unsqueeze_(0),\n",
    "                  torch.Tensor([1.0]).unsqueeze_(0),\n",
    "                  torch.Tensor([0.0]).unsqueeze_(0)), dim=1)\n",
    "    z_next = lstm(x.unsqueeze_(0).to(device))\n",
    "    z_next = sample_z(*z_next)\n",
    "    next_im = vae.decode(z_next.to(device))\n",
    "    z_next = z_next.squeeze_(0)\n",
    "    if i %100 == 0:\n",
    "        plt.imshow(ToPILImage()(next_im[0,:,:,:]))\n",
    "        plt.show()"
   ]
  },
  {
   "cell_type": "code",
   "execution_count": null,
   "metadata": {},
   "outputs": [],
   "source": []
  }
 ],
 "metadata": {
  "kernelspec": {
   "display_name": "Python 3",
   "language": "python",
   "name": "python3"
  },
  "language_info": {
   "codemirror_mode": {
    "name": "ipython",
    "version": 3
   },
   "file_extension": ".py",
   "mimetype": "text/x-python",
   "name": "python",
   "nbconvert_exporter": "python",
   "pygments_lexer": "ipython3",
   "version": "3.6.5"
  }
 },
 "nbformat": 4,
 "nbformat_minor": 2
}
